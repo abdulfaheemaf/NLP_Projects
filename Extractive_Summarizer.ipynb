{
  "cells": [
    {
      "cell_type": "markdown",
      "metadata": {
        "id": "ITXX8TuI8AzO"
      },
      "source": [
        "# **Extractive Summarisation using TF-IDF Vectors**"
      ]
    },
    {
      "cell_type": "code",
      "execution_count": null,
      "metadata": {
        "id": "75rs_QH28KDW"
      },
      "outputs": [],
      "source": [
        "import pandas as pd\n",
        "import spacy as sp\n",
        "import nltk\n",
        "from collections import Counter\n",
        "from sklearn.model_selection import train_test_split\n",
        "from sklearn.metrics import accuracy_score, classification_report\n",
        "from sklearn.pipeline import Pipeline\n",
        "from sklearn.feature_extraction.text import TfidfVectorizer"
      ]
    },
    {
      "cell_type": "code",
      "execution_count": null,
      "metadata": {
        "id": "GBuXmor77n-e"
      },
      "outputs": [],
      "source": [
        "text = \"\"\"\n",
        "Vijay married Sangeetha Sornalingam,[151][152] a Sri Lankan Tamil whom he met in the United Kingdom, on 25 August 1999.[153][154] They have two children.[155] Vijay's son, Jason Sanjay, made a cameo appearance with his father in Vettaikaaran (2009)[156] and his daughter portrayed a small role as her father's pre-teen daughter in the climax of Theri (2016).[157]\n",
        "\n",
        "On 5 February 2020, the Income Tax Department raided Vijay's residence in Chennai and inquired about potential tax evasion, making note of his investment in immovable properties, which he inherited from the production studio AGS Entertainment.[158] It was reported that Vijay and AGS Entertainment producer Anbu Cheliyan were suspected of undisclosed payments and alleged tax fraud. Nearly ₹65 crore was seized by the officials from Cheliyan's residence.[159] The investigation took place while Vijay was shooting for his film Master in Cuddalore.[160] On 12 March, officials stated that nothing significant was found during the raid.[161] Opponents of the Bharatiya Janata Party accused them of politically targeting Vijay through such raids because he was critical of them on demonetization and the Goods and Services Tax (India) in the film Mersal.[162]\n",
        "\n",
        "On 13 July 2021, the Madras High Court dismissed a writ petition filed by Vijay in 2012 seeking exemption of the Entry Tax for his Rolls-Royce Ghost car that was imported from England. It imposed a fine of ₹1 lakh which was allotted to the Tamil Nadu Chief Minister's Public COVID relief fund. Justice S.M. Subramaniam said that Vijay's fan base considers him as a hero and he was expected to be one instead of a \"reel\" hero, further calling it an anti-national habit.[163] On 15 July 2021, Vijay filed an appeal against defamatory statements made by the judge against him in Madras High court.[164] On 20 July 2021, Vijay's appeal against the tax exemption case issue and defamatory statements was moved to a different tax bench sector of the court.[165] On 27 July 2021, a two-judge bench of Madras High court stayed the earlier passed order by Judge S.M. Subramaniam that included the critical remarks and also stayed the order of a ₹1 lakh fine amount.[166] On 25 January 2022, the court dismissed and removed the defamatory critical statements made by Judge S.M. Subramaniam against Vijay.[167][168] On 15 July 2022, the court declared that no fine should be imposed on the car imported since he had paid the full entry tax before January 2019, closing out the case in the process.[169][170][171]\n",
        "\"\"\""
      ]
    },
    {
      "cell_type": "code",
      "execution_count": null,
      "metadata": {
        "colab": {
          "base_uri": "https://localhost:8080/"
        },
        "id": "U_rbNh2ezFYQ",
        "outputId": "b612846b-6106-421d-9434-82be2bdb588d"
      },
      "outputs": [
        {
          "name": "stdout",
          "output_type": "stream",
          "text": [
            "\n",
            "Vijay married Sangeetha Sornalingam, a Sri Lankan Tamil whom he met in the United Kingdom, on 25 August 1999. They have two children. Vijay's son, Jason Sanjay, made a cameo appearance with his father in Vettaikaaran (2009) and his daughter portrayed a small role as her father's pre-teen daughter in the climax of Theri (2016). \n",
            "\n",
            "On 5 February 2020, the Income Tax Department raided Vijay's residence in Chennai and inquired about potential tax evasion, making note of his investment in immovable properties, which he inherited from the production studio AGS Entertainment. It was reported that Vijay and AGS Entertainment producer Anbu Cheliyan were suspected of undisclosed payments and alleged tax fraud. Nearly ₹65 crore was seized by the officials from Cheliyan's residence. The investigation took place while Vijay was shooting for his film Master in Cuddalore. On 12 March, officials stated that nothing significant was found during the raid. Opponents of the Bharatiya Janata Party accused them of politically targeting Vijay through such raids because he was critical of them on demonetization and the Goods and Services Tax (India) in the film Mersal. \n",
            "\n",
            "On 13 July 2021, the Madras High Court dismissed a writ petition filed by Vijay in 2012 seeking exemption of the Entry Tax for his Rolls-Royce Ghost car that was imported from England. It imposed a fine of ₹1 lakh which was allotted to the Tamil Nadu Chief Minister's Public COVID relief fund. Justice S.M. Subramaniam said that Vijay's fan base considers him as a hero and he was expected to be one instead of a \"reel\" hero, further calling it an anti-national habit. On 15 July 2021, Vijay filed an appeal against defamatory statements made by the judge against him in Madras High court. On 20 July 2021, Vijay's appeal against the tax exemption case issue and defamatory statements was moved to a different tax bench sector of the court. On 27 July 2021, a two-judge bench of Madras High court stayed the earlier passed order by Judge S.M. Subramaniam that included the critical remarks and also stayed the order of a ₹1 lakh fine amount. On 25 January 2022, the court dismissed and removed the defamatory critical statements made by Judge S.M. Subramaniam against Vijay. On 15 July 2022, the court declared that no fine should be imposed on the car imported since he had paid the full entry tax before January 2019, closing out the case in the process. \n",
            "\n"
          ]
        }
      ],
      "source": [
        "import re\n",
        "\n",
        "text = re.sub(r'\\[[^\\]]*\\]', ' ', text)\n",
        "text = re.sub(r' +', ' ', text)\n",
        "print(text)"
      ]
    },
    {
      "cell_type": "code",
      "execution_count": null,
      "metadata": {
        "colab": {
          "base_uri": "https://localhost:8080/"
        },
        "id": "QhK2RFdH-JG6",
        "outputId": "3074d30e-b02b-4fd3-cc16-8dd5689bd465"
      },
      "outputs": [
        {
          "name": "stderr",
          "output_type": "stream",
          "text": [
            "[nltk_data] Downloading package punkt to /root/nltk_data...\n",
            "[nltk_data]   Package punkt is already up-to-date!\n"
          ]
        }
      ],
      "source": [
        "nlp = sp.load(\"en_core_web_sm\")\n",
        "\n",
        "nltk.download('punkt')\n",
        "original_sentences = nltk.sent_tokenize(text)"
      ]
    },
    {
      "cell_type": "code",
      "execution_count": null,
      "metadata": {
        "id": "dw9dkCT578en"
      },
      "outputs": [],
      "source": [
        "def preprocess(sentences):\n",
        "\n",
        "  preprocessed_sentences = []\n",
        "\n",
        "  for sentence in sentences:\n",
        "    doc = nlp(sentence)\n",
        "    extracted_words = [token.lemma_ for token in doc if not token.is_stop and token.is_alpha]\n",
        "    preprocessed_sentences.append(\" \".join(extracted_words))\n",
        "  return preprocessed_sentences"
      ]
    },
    {
      "cell_type": "code",
      "execution_count": null,
      "metadata": {
        "colab": {
          "base_uri": "https://localhost:8080/"
        },
        "id": "3G0KypHTtc20",
        "outputId": "2e5c13aa-f339-4972-c0e5-925cce18399f"
      },
      "outputs": [
        {
          "data": {
            "text/plain": [
              "['Vijay marry Sangeetha Sornalingam Sri Lankan Tamil meet United Kingdom August',\n",
              " 'child',\n",
              " 'Vijay son Jason Sanjay cameo appearance father Vettaikaaran daughter portray small role father pre teen daughter climax Theri',\n",
              " 'February Income Tax Department raid Vijay residence Chennai inquire potential tax evasion make note investment immovable property inherit production studio AGS Entertainment',\n",
              " 'report Vijay AGS Entertainment producer Anbu Cheliyan suspect undisclosed payment allege tax fraud',\n",
              " 'nearly crore seize official Cheliyan residence',\n",
              " 'investigation take place Vijay shoot film Master Cuddalore',\n",
              " 'March official state significant find raid',\n",
              " 'opponent Bharatiya Janata Party accuse politically target Vijay raid critical demonetization Goods Services Tax India film Mersal',\n",
              " 'July Madras High Court dismiss writ petition file Vijay seek exemption Entry Tax Rolls Royce Ghost car import England',\n",
              " 'impose fine lakh allot Tamil Nadu Chief Minister public covid relief fund',\n",
              " 'Justice',\n",
              " 'Subramaniam say Vijay fan base consider hero expect instead reel hero call anti national habit',\n",
              " 'July Vijay file appeal defamatory statement judge Madras High court',\n",
              " 'July Vijay appeal tax exemption case issue defamatory statement move different tax bench sector court',\n",
              " 'July judge bench Madras High court stay early pass order Judge',\n",
              " 'Subramaniam include critical remark stay order lakh fine',\n",
              " 'January court dismiss remove defamatory critical statement Judge',\n",
              " 'Subramaniam Vijay',\n",
              " 'July court declare fine impose car import pay entry tax January close case process']"
            ]
          },
          "execution_count": 14,
          "metadata": {},
          "output_type": "execute_result"
        }
      ],
      "source": [
        "preprocessed_sentences = preprocess(original_sentences)\n",
        "preprocessed_sentences"
      ]
    },
    {
      "cell_type": "code",
      "execution_count": null,
      "metadata": {
        "id": "-N7TWkQcpt6d"
      },
      "outputs": [],
      "source": [
        "vectorizer = TfidfVectorizer()\n",
        "matrix  = vectorizer.fit_transform(preprocessed_sentences)"
      ]
    },
    {
      "cell_type": "code",
      "execution_count": null,
      "metadata": {
        "colab": {
          "base_uri": "https://localhost:8080/"
        },
        "id": "2Tg-gn0VtWFt",
        "outputId": "a113415e-e608-459d-fe48-20748b90b709"
      },
      "outputs": [
        {
          "data": {
            "text/plain": [
              "array([3.27294297, 1.        , 3.79175395, 4.53569618, 3.54815123,\n",
              "       2.44442802, 2.77805245, 2.44051661, 4.06592239, 4.29026976,\n",
              "       3.45465341, 1.        , 3.5819497 , 3.12216308, 3.65755205,\n",
              "       3.04677306, 2.81670012, 2.80765786, 1.36855169, 3.70055034])"
            ]
          },
          "execution_count": 16,
          "metadata": {},
          "output_type": "execute_result"
        }
      ],
      "source": [
        "sent_scores = matrix.toarray().sum(axis = 1)\n",
        "sent_scores"
      ]
    },
    {
      "cell_type": "code",
      "execution_count": null,
      "metadata": {
        "colab": {
          "base_uri": "https://localhost:8080/"
        },
        "id": "nqlmFj_ntc8V",
        "outputId": "bdbd94f0-b5e9-46f9-c06c-50bb5455e1fd"
      },
      "outputs": [
        {
          "data": {
            "text/plain": [
              "3.791753953515344"
            ]
          },
          "execution_count": 17,
          "metadata": {},
          "output_type": "execute_result"
        }
      ],
      "source": [
        "sent_scores[2]"
      ]
    },
    {
      "cell_type": "code",
      "execution_count": null,
      "metadata": {
        "colab": {
          "base_uri": "https://localhost:8080/"
        },
        "id": "eE0M34IHvyJ1",
        "outputId": "5fc5e24d-d66f-44d3-d767-17ccd0501785"
      },
      "outputs": [
        {
          "data": {
            "text/plain": [
              "20"
            ]
          },
          "execution_count": 18,
          "metadata": {},
          "output_type": "execute_result"
        }
      ],
      "source": [
        "len(sent_scores)"
      ]
    },
    {
      "cell_type": "code",
      "execution_count": null,
      "metadata": {
        "colab": {
          "base_uri": "https://localhost:8080/"
        },
        "id": "ddV7cglh6Q12",
        "outputId": "0010bb37-3bf4-43c5-dac7-c6fbd0847676"
      },
      "outputs": [
        {
          "data": {
            "text/plain": [
              "array([0.        , 0.        , 0.        , 0.        , 0.        ,\n",
              "       0.        , 0.        , 0.        , 0.31639814, 0.        ,\n",
              "       0.        , 0.        , 0.        , 0.        , 0.        ,\n",
              "       0.        , 0.        , 0.        , 0.        , 0.        ,\n",
              "       0.        , 0.        , 0.        , 0.        , 0.        ,\n",
              "       0.        , 0.        , 0.        , 0.        , 0.        ,\n",
              "       0.        , 0.        , 0.        , 0.        , 0.        ,\n",
              "       0.        , 0.        , 0.        , 0.        , 0.        ,\n",
              "       0.        , 0.        , 0.        , 0.        , 0.        ,\n",
              "       0.        , 0.        , 0.        , 0.        , 0.        ,\n",
              "       0.        , 0.        , 0.        , 0.        , 0.        ,\n",
              "       0.        , 0.        , 0.        , 0.        , 0.        ,\n",
              "       0.        , 0.        , 0.        , 0.        , 0.        ,\n",
              "       0.        , 0.        , 0.        , 0.        , 0.        ,\n",
              "       0.        , 0.        , 0.        , 0.        , 0.31639814,\n",
              "       0.        , 0.31639814, 0.        , 0.        , 0.        ,\n",
              "       0.31639814, 0.        , 0.31639814, 0.        , 0.        ,\n",
              "       0.        , 0.        , 0.        , 0.        , 0.        ,\n",
              "       0.        , 0.        , 0.        , 0.        , 0.        ,\n",
              "       0.        , 0.        , 0.        , 0.        , 0.        ,\n",
              "       0.        , 0.        , 0.        , 0.        , 0.        ,\n",
              "       0.        , 0.        , 0.        , 0.        , 0.        ,\n",
              "       0.        , 0.        , 0.        , 0.        , 0.        ,\n",
              "       0.        , 0.        , 0.        , 0.31639814, 0.        ,\n",
              "       0.        , 0.        , 0.        , 0.        , 0.        ,\n",
              "       0.        , 0.        , 0.        , 0.        , 0.31639814,\n",
              "       0.31639814, 0.        , 0.        , 0.        , 0.        ,\n",
              "       0.        , 0.        , 0.        , 0.27811881, 0.        ,\n",
              "       0.        , 0.        , 0.        , 0.        , 0.31639814,\n",
              "       0.        , 0.14724091, 0.        ])"
            ]
          },
          "execution_count": 19,
          "metadata": {},
          "output_type": "execute_result"
        }
      ],
      "source": [
        "matrix.toarray()[0]"
      ]
    },
    {
      "cell_type": "code",
      "execution_count": null,
      "metadata": {
        "colab": {
          "base_uri": "https://localhost:8080/"
        },
        "id": "TJrsu-gnwRx9",
        "outputId": "c1f601ff-6955-4392-cea6-31aaa722d3cd"
      },
      "outputs": [
        {
          "data": {
            "text/plain": [
              "148"
            ]
          },
          "execution_count": 20,
          "metadata": {},
          "output_type": "execute_result"
        }
      ],
      "source": [
        "len(matrix.toarray()[0])"
      ]
    },
    {
      "cell_type": "code",
      "execution_count": null,
      "metadata": {
        "colab": {
          "base_uri": "https://localhost:8080/"
        },
        "id": "n_LC8BvZwX_1",
        "outputId": "058e1e3d-6a60-4d98-9261-e49be8676868"
      },
      "outputs": [
        {
          "data": {
            "text/plain": [
              "148"
            ]
          },
          "execution_count": 21,
          "metadata": {},
          "output_type": "execute_result"
        }
      ],
      "source": [
        "len(vectorizer.vocabulary_)"
      ]
    },
    {
      "cell_type": "code",
      "execution_count": null,
      "metadata": {
        "colab": {
          "base_uri": "https://localhost:8080/"
        },
        "id": "4ttHkmL86GxO",
        "outputId": "d24e9c39-95f0-4a8d-a6b5-875908804385"
      },
      "outputs": [
        {
          "data": {
            "text/plain": [
              "array([ 3,  9,  8,  2, 19, 14, 12,  4, 10,  0, 13, 15, 16, 17,  6,  5,  7,\n",
              "       18,  1, 11])"
            ]
          },
          "execution_count": 22,
          "metadata": {},
          "output_type": "execute_result"
        }
      ],
      "source": [
        "ranked_scores = (-sent_scores).argsort()\n",
        "ranked_scores"
      ]
    },
    {
      "cell_type": "code",
      "execution_count": null,
      "metadata": {
        "colab": {
          "base_uri": "https://localhost:8080/"
        },
        "id": "EIJWMwIZ7Us3",
        "outputId": "3ae41bf3-9168-4a48-e931-275c0180665b"
      },
      "outputs": [
        {
          "data": {
            "text/plain": [
              "[2, 3, 8, 9, 19]"
            ]
          },
          "execution_count": 23,
          "metadata": {},
          "output_type": "execute_result"
        }
      ],
      "source": [
        "no_of_sentences = 5\n",
        "top_score_indices = sorted(ranked_scores[: no_of_sentences])\n",
        "top_score_indices"
      ]
    },
    {
      "cell_type": "code",
      "execution_count": null,
      "metadata": {
        "colab": {
          "base_uri": "https://localhost:8080/"
        },
        "id": "6xCrC0Bm8cNX",
        "outputId": "a54726f6-47ad-41fb-d75a-f4c82b1f9952"
      },
      "outputs": [
        {
          "data": {
            "text/plain": [
              "Vijay's son, Jason Sanjay, made a cameo appearance with his father in Vettaikaaran (2009) and his daughter portrayed a small role as her father's pre-teen daughter in the climax of Theri (2016). On 5 February 2020, the Income Tax Department raided Vijay's residence in Chennai and inquired about potential tax evasion, making note of his investment in immovable properties, which he inherited from the production studio AGS Entertainment. Opponents of the Bharatiya Janata Party accused them of politically targeting Vijay through such raids because he was critical of them on demonetization and the Goods and Services Tax (India) in the film Mersal. On 13 July 2021, the Madras High Court dismissed a writ petition filed by Vijay in 2012 seeking exemption of the Entry Tax for his Rolls-Royce Ghost car that was imported from England. On 15 July 2022, the court declared that no fine should be imposed on the car imported since he had paid the full entry tax before January 2019, closing out the case in the process."
            ]
          },
          "execution_count": 24,
          "metadata": {},
          "output_type": "execute_result"
        }
      ],
      "source": [
        "final_sentences = [original_sentences[i] for i in top_score_indices]\n",
        "summary = nlp(\" \".join(final_sentences))\n",
        "summary"
      ]
    }
  ],
  "metadata": {
    "colab": {
      "provenance": []
    },
    "kernelspec": {
      "display_name": "Python 3",
      "name": "python3"
    },
    "language_info": {
      "name": "python"
    }
  },
  "nbformat": 4,
  "nbformat_minor": 0
}
